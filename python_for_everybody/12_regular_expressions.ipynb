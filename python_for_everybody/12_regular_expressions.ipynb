{
 "cells": [
  {
   "cell_type": "markdown",
   "metadata": {},
   "source": [
    "# Regex\n",
    "Regex provides a concise and flecible means for matching string text"
   ]
  },
  {
   "cell_type": "markdown",
   "metadata": {},
   "source": [
    "![regex1](images/regex1.png)"
   ]
  },
  {
   "cell_type": "markdown",
   "metadata": {},
   "source": [
    "We use the librery \"re\" and use the methods:\n",
    "* re.search() that is similiar to str.find(), and\n",
    "* re.findall() that is similar to str.find() and slicing"
   ]
  },
  {
   "cell_type": "code",
   "execution_count": 1,
   "metadata": {},
   "outputs": [],
   "source": [
    "import re"
   ]
  },
  {
   "cell_type": "code",
   "execution_count": 8,
   "metadata": {},
   "outputs": [
    {
     "data": {
      "text/plain": [
       "' X-Sieve: cmu\\nX-Sdp-result: innocent\\nX-Plane is: two weeks\\n'"
      ]
     },
     "execution_count": 8,
     "metadata": {},
     "output_type": "execute_result"
    }
   ],
   "source": [
    "a = 'X-Sieve: cmu'\n",
    "b = 'X-Sdp-result: innocent'\n",
    "c = 'X-Plane is: two weeks'\n"
   ]
  },
  {
   "cell_type": "code",
   "execution_count": 11,
   "metadata": {},
   "outputs": [
    {
     "name": "stdout",
     "output_type": "stream",
     "text": [
      "<re.Match object; span=(0, 8), match='X-Sieve:'>\n",
      "<re.Match object; span=(0, 13), match='X-Sdp-result:'>\n",
      "<re.Match object; span=(0, 11), match='X-Plane is:'>\n"
     ]
    }
   ],
   "source": [
    "print(re.search('^X.*:',a))\n",
    "print(re.search('^X.*:',b))\n",
    "print(re.search('^X.*:',c))"
   ]
  },
  {
   "cell_type": "code",
   "execution_count": 12,
   "metadata": {},
   "outputs": [
    {
     "name": "stdout",
     "output_type": "stream",
     "text": [
      "<re.Match object; span=(0, 8), match='X-Sieve:'>\n",
      "<re.Match object; span=(0, 13), match='X-Sdp-result:'>\n",
      "None\n"
     ]
    }
   ],
   "source": [
    "print(re.search('^X-\\S+:',a))\n",
    "print(re.search('^X-\\S+:',b))\n",
    "print(re.search('^X-\\S+:',c))"
   ]
  },
  {
   "cell_type": "markdown",
   "metadata": {},
   "source": [
    "## Matching and Extracting data\n",
    "* re.search returns True/False if it match the expression\n",
    "* re.findall() is to extract"
   ]
  },
  {
   "cell_type": "code",
   "execution_count": 15,
   "metadata": {},
   "outputs": [
    {
     "data": {
      "text/plain": [
       "['2', '19', '42']"
      ]
     },
     "execution_count": 15,
     "metadata": {},
     "output_type": "execute_result"
    }
   ],
   "source": [
    "x = 'My 2 favorite numbres are 19 and 42'\n",
    "re.findall('[0-9]+',x)"
   ]
  },
  {
   "cell_type": "markdown",
   "metadata": {},
   "source": [
    "#### Greedy Matching\n",
    "\n",
    "The reapeat characters (* and +) push outward in both directions (greedy) to match the largest possible string"
   ]
  },
  {
   "cell_type": "code",
   "execution_count": 17,
   "metadata": {},
   "outputs": [
    {
     "data": {
      "text/plain": [
       "['From: Using the :']"
      ]
     },
     "execution_count": 17,
     "metadata": {},
     "output_type": "execute_result"
    }
   ],
   "source": [
    "y = 'From: Using the : character'\n",
    "re.findall('^F.+:',y)"
   ]
  },
  {
   "cell_type": "markdown",
   "metadata": {},
   "source": [
    "### Non-Greedy Matching\n",
    "Not all regular expresson repeat codes are greedy! If you add a ? character, the + and * chill out a bit."
   ]
  },
  {
   "cell_type": "code",
   "execution_count": 18,
   "metadata": {},
   "outputs": [
    {
     "data": {
      "text/plain": [
       "['From:']"
      ]
     },
     "execution_count": 18,
     "metadata": {},
     "output_type": "execute_result"
    }
   ],
   "source": [
    "y = 'From: Using the : character'\n",
    "re.findall('^F.+?:',y)"
   ]
  },
  {
   "cell_type": "markdown",
   "metadata": {},
   "source": [
    "### Fine-Tuning String Extraction\n",
    "You can refine the match for re.findall() and separately determine wich portion og the matych is to be extracted by using parentheses"
   ]
  },
  {
   "cell_type": "code",
   "execution_count": 19,
   "metadata": {},
   "outputs": [
    {
     "data": {
      "text/plain": [
       "['stephen.marquad@uct.ac.za']"
      ]
     },
     "execution_count": 19,
     "metadata": {},
     "output_type": "execute_result"
    }
   ],
   "source": [
    "z = 'From stephen.marquad@uct.ac.za Sat Jan 5 9:14:16 2008'\n",
    "re.findall('\\S+@\\S+',z)"
   ]
  },
  {
   "cell_type": "code",
   "execution_count": 20,
   "metadata": {},
   "outputs": [
    {
     "data": {
      "text/plain": [
       "['stephen.marquad@uct.ac.za']"
      ]
     },
     "execution_count": 20,
     "metadata": {},
     "output_type": "execute_result"
    }
   ],
   "source": [
    "# With parantheses\n",
    "re.findall('^From (\\S+@\\S+)',z)"
   ]
  },
  {
   "cell_type": "code",
   "execution_count": 22,
   "metadata": {},
   "outputs": [
    {
     "name": "stdout",
     "output_type": "stream",
     "text": [
      "['csev@umich.edu', 'cwen@iupui.edu']\n"
     ]
    }
   ],
   "source": [
    "s = 'A message from csev@umich.edu to cwen@iupui.edu about meeting @2PM'\n",
    "lst = re.findall('\\\\S+@\\\\S+', s)\n",
    "print(lst)"
   ]
  },
  {
   "cell_type": "markdown",
   "metadata": {},
   "source": [
    "## Practical Applications\n",
    "### Double split pattern\n",
    "Sometimes we split a line one way, and then grab one og the peces of the line and split that piece again"
   ]
  },
  {
   "cell_type": "code",
   "execution_count": 26,
   "metadata": {},
   "outputs": [
    {
     "name": "stdout",
     "output_type": "stream",
     "text": [
      "['From', 'stephen.marquad@uct.ac.za', 'Sat', 'Jan', '5', '9:14:16', '2008']\n",
      "stephen.marquad@uct.ac.za\n",
      "['stephen.marquad', 'uct.ac.za']\n",
      "uct.ac.za\n"
     ]
    }
   ],
   "source": [
    "words = z.split()\n",
    "email = words[1]\n",
    "pieces = email.split('@')\n",
    "print(words)\n",
    "print(email)\n",
    "print(pieces)\n",
    "print(pieces[1])"
   ]
  },
  {
   "cell_type": "code",
   "execution_count": 27,
   "metadata": {},
   "outputs": [
    {
     "data": {
      "text/plain": [
       "['uct.ac.za']"
      ]
     },
     "execution_count": 27,
     "metadata": {},
     "output_type": "execute_result"
    }
   ],
   "source": [
    "# Regex Version\n",
    "re.findall('@([^ ]*)',z)"
   ]
  },
  {
   "cell_type": "code",
   "execution_count": 29,
   "metadata": {},
   "outputs": [
    {
     "data": {
      "text/plain": [
       "['uct.ac.za']"
      ]
     },
     "execution_count": 29,
     "metadata": {},
     "output_type": "execute_result"
    }
   ],
   "source": [
    "# more precise for the email that have a From before\n",
    "re.findall('^From .*@([^ ]*)',z)"
   ]
  },
  {
   "cell_type": "markdown",
   "metadata": {},
   "source": [
    "### Escape Character\n",
    "If you want a special reular expression character to just behave normally (most of the time) you prefix it with '\\\\'"
   ]
  },
  {
   "cell_type": "code",
   "execution_count": 31,
   "metadata": {},
   "outputs": [
    {
     "data": {
      "text/plain": [
       "['$10.00']"
      ]
     },
     "execution_count": 31,
     "metadata": {},
     "output_type": "execute_result"
    }
   ],
   "source": [
    "s = 'we just received $10.00 for cookies.'\n",
    "re.findall('\\$[0-9.]+',s)"
   ]
  }
 ],
 "metadata": {
  "kernelspec": {
   "display_name": "Python 3.7.13 ('DS4A-env')",
   "language": "python",
   "name": "python3"
  },
  "language_info": {
   "codemirror_mode": {
    "name": "ipython",
    "version": 3
   },
   "file_extension": ".py",
   "mimetype": "text/x-python",
   "name": "python",
   "nbconvert_exporter": "python",
   "pygments_lexer": "ipython3",
   "version": "3.7.13"
  },
  "orig_nbformat": 4,
  "vscode": {
   "interpreter": {
    "hash": "f83222598422434fc400a8455b5c5dcc255e92c9440a203626fed095cefc0f12"
   }
  }
 },
 "nbformat": 4,
 "nbformat_minor": 2
}

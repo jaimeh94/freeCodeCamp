{
 "cells": [
  {
   "cell_type": "markdown",
   "metadata": {},
   "source": [
    "# Web Services\n",
    "## Data on the web\n",
    "* With the HTTP Request/Response well undestood and well supported, there was a natural move toward exchanging data between programs using these protocols\n",
    "* We needed to come up with an agreed way to represent data going between applications and across networks\n",
    "* There are two commonly used formats: XML and JSON\n",
    " * JSON: Simpler and easier\n",
    " * XML: Precise and descriptive\n",
    "\n",
    "## XML\n",
    "eXtensible Markup Language\n",
    "\n",
    "Is a markup language\n",
    "\n",
    "### Terminology:\n",
    " * tags: indicate the beginning and ending od elements\n",
    " * Attributes: Keyword/value pairs on the opening tag of XML\n",
    " * Serialize / De-Serialize: Convert data in one program into a common format that can be stored and/or transmitted between systems in a programming language-independent manner\n",
    "\n",
    "### XML Basics:\n",
    " * Start tag\n",
    " * End tag\n",
    " * Text Content\n",
    " * Attribute\n",
    " * Self Closing Tag\n",
    "\n",
    "Example:\n",
    "```\n",
    " <person>\n",
    " <name>Chuck</name>\n",
    " <phone type='intl'>\n",
    " +1 734 303 4456\n",
    " </phone>\n",
    " <email hide='yes'/>\n",
    " </person>\n",
    " ```\n",
    "\n",
    " The spaces are only to do it readable"
   ]
  },
  {
   "cell_type": "markdown",
   "metadata": {},
   "source": [
    "![xml tree](images/xml_tree.png)\n",
    "\n"
   ]
  },
  {
   "cell_type": "markdown",
   "metadata": {},
   "source": [
    "## XML Schema\n",
    "* Description of the legal format of an XML document\n",
    "* Expressed in terms od constraints on the strcture and the content of documents\n",
    "* Often used to specify a \"contract\" between systems - \"My system will only accept XML that conforms to this particular Schema.\"\n",
    "* If a particular piece of XML meets the specification of the Schema - it is said to \"validate\"\n",
    "### XSD XML Schema (W3C spec)\n",
    "* We will focus on the Worl Wide Web Consortium (W3C) version\n",
    "* It is often called \"W3C Schema\" because \"Schema\" is considered generic.\n",
    "* More commonly it is called XSD beacuse the file names end in .xsd\n",
    "\n",
    "XSD Structure\n",
    " * xs:element\n",
    " * xs:sequence\n",
    " * xs:complexType\n",
    "\n",
    " ![xsd](images/xsd.png)\n",
    "\n",
    " Also we can specify:\n",
    " * Constraints,\n",
    " * Data Types,\n",
    " * Date/Time Format"
   ]
  },
  {
   "cell_type": "code",
   "execution_count": 16,
   "metadata": {},
   "outputs": [
    {
     "name": "stdout",
     "output_type": "stream",
     "text": [
      "Name: Chuck\n",
      "Atrr: yes\n"
     ]
    }
   ],
   "source": [
    "# Parsing XML\n",
    "\n",
    "import xml.etree.ElementTree as ET\n",
    "data = '''\n",
    "<person>\n",
    "  <name>Chuck</name>\n",
    "  <phone type=\"intl\">\n",
    "    +1 7 34 303 4456\n",
    "  </phone>\n",
    "  <email hide=\"yes\"/>\n",
    "</person>'''\n",
    "tree = ET.fromstring(data)\n",
    "print('Name:', tree.find('name').text)\n",
    "print('Atrr:', tree.find('email').get('hide'))\n"
   ]
  },
  {
   "cell_type": "code",
   "execution_count": 17,
   "metadata": {},
   "outputs": [
    {
     "name": "stdout",
     "output_type": "stream",
     "text": [
      "User count: 2\n",
      "Name Chuck\n",
      "Id 001\n",
      "Attribute 2\n",
      "Name Brent\n",
      "Id 009\n",
      "Attribute 7\n"
     ]
    }
   ],
   "source": [
    "# Looping through nodes\n",
    "\n",
    "input = '''\n",
    "<stuff>\n",
    "  <users>\n",
    "    <user x=\"2\">\n",
    "      <id>001</id>\n",
    "      <name>Chuck</name>\n",
    "    </user>\n",
    "    <user x=\"7\">\n",
    "      <id>009</id>\n",
    "      <name>Brent</name>\n",
    "    </user>\n",
    "  </users>\n",
    "</stuff>'''\n",
    "\n",
    "stuff = ET.fromstring(input)\n",
    "lst = stuff.findall('users/user')\n",
    "print('User count:', len(lst))\n",
    "\n",
    "for item in lst:\n",
    "    print('Name', item.find('name').text)\n",
    "    print('Id', item.find('id').text)\n",
    "    print('Attribute', item.get('x'))\n",
    "\n"
   ]
  },
  {
   "cell_type": "code",
   "execution_count": 18,
   "metadata": {},
   "outputs": [
    {
     "name": "stdout",
     "output_type": "stream",
     "text": [
      "User count: 2\n",
      "User count: 0\n"
     ]
    }
   ],
   "source": [
    "input = '''\n",
    "<stuff>\n",
    "  <users>\n",
    "    <user x=\"2\">\n",
    "      <id>001</id>\n",
    "      <name>Chuck</name>\n",
    "    </user>\n",
    "    <user x=\"7\">\n",
    "      <id>009</id>\n",
    "      <name>Brent</name>\n",
    "    </user>\n",
    "  </users>\n",
    "</stuff>'''\n",
    "\n",
    "stuff = ET.fromstring(input)\n",
    "\n",
    "lst = stuff.findall('users/user')\n",
    "print('User count:', len(lst))\n",
    "\n",
    "lst2 = stuff.findall('user')\n",
    "print('User count:', len(lst2))"
   ]
  },
  {
   "cell_type": "markdown",
   "metadata": {},
   "source": [
    "## JavaScript Object Notation - JSON\n",
    "\n",
    "Represents data as nested \"lists\" and \"dictionaries\"\n"
   ]
  },
  {
   "cell_type": "code",
   "execution_count": 19,
   "metadata": {},
   "outputs": [
    {
     "name": "stdout",
     "output_type": "stream",
     "text": [
      "User count: 2\n",
      "Name Chuck\n",
      "Id 001\n",
      "Attribute 2\n",
      "Name Brent\n",
      "Id 009\n",
      "Attribute 7\n"
     ]
    }
   ],
   "source": [
    "# Parsing JSON\n",
    "\n",
    "import json\n",
    "\n",
    "data = '''\n",
    "[\n",
    "  { \"id\" : \"001\",\n",
    "    \"x\" : \"2\",\n",
    "    \"name\" : \"Chuck\"\n",
    "  } ,\n",
    "  { \"id\" : \"009\",\n",
    "    \"x\" : \"7\",\n",
    "    \"name\" : \"Brent\"\n",
    "  }\n",
    "]'''\n",
    "\n",
    "info = json.loads(data)\n",
    "print('User count:', len(info))\n",
    "\n",
    "for item in info:\n",
    "    print('Name', item['name'])\n",
    "    print('Id', item['id'])\n",
    "    print('Attribute', item['x'])"
   ]
  },
  {
   "cell_type": "markdown",
   "metadata": {},
   "source": [
    "## Service Oriented Approach\n",
    "* Most non-trivial web applications use services\n",
    "* They use services from other apllications\n",
    " * Credit Card Charge\n",
    " * Hotel Reservation Systems\n",
    "* Services publish the \"rules\" applications must follow to make use of the service (API)\n",
    "\n",
    "### Multiple systems\n",
    "* Initially two systems cooperate ans plit the problem\n",
    "* As the data/service becomens useful - multiple applications want to use the information/application\n",
    "\n",
    "## APIs\n",
    "**Application Program Interface** itself is largely abstract in that it specifies an interface and controls the behavior of the objects specified in that interface. The software that provides the funtionality described by an APU is said to be an \"implementation\" of the API. An API is typically defined interms of the programming language used to build an application"
   ]
  },
  {
   "cell_type": "code",
   "execution_count": 6,
   "metadata": {},
   "outputs": [
    {
     "name": "stdout",
     "output_type": "stream",
     "text": [
      "Retrieving http://py4e-data.dr-chuck.net/json?address=Ann+Arbor%2C+MI&key=42\n",
      "Retrieved 1736 characters\n",
      "{\n",
      "    \"results\": [\n",
      "        {\n",
      "            \"address_components\": [\n",
      "                {\n",
      "                    \"long_name\": \"Ann Arbor\",\n",
      "                    \"short_name\": \"Ann Arbor\",\n",
      "                    \"types\": [\n",
      "                        \"locality\",\n",
      "                        \"political\"\n",
      "                    ]\n",
      "                },\n",
      "                {\n",
      "                    \"long_name\": \"Washtenaw County\",\n",
      "                    \"short_name\": \"Washtenaw County\",\n",
      "                    \"types\": [\n",
      "                        \"administrative_area_level_2\",\n",
      "                        \"political\"\n",
      "                    ]\n",
      "                },\n",
      "                {\n",
      "                    \"long_name\": \"Michigan\",\n",
      "                    \"short_name\": \"MI\",\n",
      "                    \"types\": [\n",
      "                        \"administrative_area_level_1\",\n",
      "                        \"political\"\n",
      "                    ]\n",
      "                },\n",
      "                {\n",
      "                    \"long_name\": \"United States\",\n",
      "                    \"short_name\": \"US\",\n",
      "                    \"types\": [\n",
      "                        \"country\",\n",
      "                        \"political\"\n",
      "                    ]\n",
      "                }\n",
      "            ],\n",
      "            \"formatted_address\": \"Ann Arbor, MI, USA\",\n",
      "            \"geometry\": {\n",
      "                \"bounds\": {\n",
      "                    \"northeast\": {\n",
      "                        \"lat\": 42.3239728,\n",
      "                        \"lng\": -83.6758069\n",
      "                    },\n",
      "                    \"southwest\": {\n",
      "                        \"lat\": 42.222668,\n",
      "                        \"lng\": -83.799572\n",
      "                    }\n",
      "                },\n",
      "                \"location\": {\n",
      "                    \"lat\": 42.2808256,\n",
      "                    \"lng\": -83.7430378\n",
      "                },\n",
      "                \"location_type\": \"APPROXIMATE\",\n",
      "                \"viewport\": {\n",
      "                    \"northeast\": {\n",
      "                        \"lat\": 42.3239728,\n",
      "                        \"lng\": -83.6758069\n",
      "                    },\n",
      "                    \"southwest\": {\n",
      "                        \"lat\": 42.222668,\n",
      "                        \"lng\": -83.799572\n",
      "                    }\n",
      "                }\n",
      "            },\n",
      "            \"place_id\": \"ChIJMx9D1A2wPIgR4rXIhkb5Cds\",\n",
      "            \"types\": [\n",
      "                \"locality\",\n",
      "                \"political\"\n",
      "            ]\n",
      "        }\n",
      "    ],\n",
      "    \"status\": \"OK\"\n",
      "}\n",
      "lat 42.2808256 lng -83.7430378\n",
      "Ann Arbor, MI, USA\n"
     ]
    }
   ],
   "source": [
    "\n",
    "\n",
    "import urllib.request, urllib.parse, urllib.error\n",
    "import json\n",
    "import ssl\n",
    "\n",
    "api_key = False\n",
    "# If you have a Google Places API key, enter it here\n",
    "# api_key = 'AIzaSy___IDByT70'\n",
    "# https://developers.google.com/maps/documentation/geocoding/intro\n",
    "\n",
    "if api_key is False:\n",
    "    api_key = 42\n",
    "    serviceurl = 'http://py4e-data.dr-chuck.net/json?'\n",
    "else :\n",
    "    serviceurl = 'https://maps.googleapis.com/maps/api/geocode/json?'\n",
    "\n",
    "# Ignore SSL certificate errors\n",
    "ctx = ssl.create_default_context()\n",
    "ctx.check_hostname = False\n",
    "ctx.verify_mode = ssl.CERT_NONE\n",
    "\n",
    "while True:\n",
    "    address = input('Enter location: ')\n",
    "    #address = 'Ann Arbor, MI'\n",
    "    if len(address) < 1: break\n",
    "\n",
    "    parms = dict()\n",
    "    parms['address'] = address\n",
    "    if api_key is not False: parms['key'] = api_key\n",
    "    url = serviceurl + urllib.parse.urlencode(parms)\n",
    "\n",
    "    print('Retrieving', url)\n",
    "    uh = urllib.request.urlopen(url, context=ctx)\n",
    "    data = uh.read().decode()\n",
    "    print('Retrieved', len(data), 'characters')\n",
    "\n",
    "    try:\n",
    "        js = json.loads(data)\n",
    "    except:\n",
    "        js = None\n",
    "\n",
    "    if not js or 'status' not in js or js['status'] != 'OK':\n",
    "        print('==== Failure To Retrieve ====')\n",
    "        print(data)\n",
    "        continue\n",
    "\n",
    "    print(json.dumps(js, indent=4))\n",
    "\n",
    "    lat = js['results'][0]['geometry']['location']['lat']\n",
    "    lng = js['results'][0]['geometry']['location']['lng']\n",
    "    print('lat', lat, 'lng', lng)\n",
    "    location = js['results'][0]['formatted_address']\n",
    "    print(location)"
   ]
  },
  {
   "cell_type": "markdown",
   "metadata": {},
   "source": [
    "## API Security and Rate Limiting\n",
    "* The compute resources to run these APIs are not \"free\"\n",
    "* The data provided by these APIs is usually valuable\n",
    "* The data providers might limit the number of request per day, demant an API \"key\", or even charge for usage\n",
    "* They might change the rules as things progress"
   ]
  },
  {
   "cell_type": "code",
   "execution_count": 5,
   "metadata": {},
   "outputs": [],
   "source": [
    "# # import urllib.request, urllib.parse, urllib.error\n",
    "# # import twurl\n",
    "# # import ssl\n",
    "\n",
    "# # # https://apps.twitter.com/\n",
    "# # # Create App and get the four strings, put them in hidden.py\n",
    "\n",
    "# # TWITTER_URL = 'https://api.twitter.com/1.1/statuses/user_timeline.json'\n",
    "\n",
    "# # # Ignore SSL certificate errors\n",
    "# # ctx = ssl.create_default_context()\n",
    "# # ctx.check_hostname = False\n",
    "# # ctx.verify_mode = ssl.CERT_NONE\n",
    "\n",
    "# # while True:\n",
    "# #     print('')\n",
    "# #     acct = input('Enter Twitter Account:')\n",
    "# #     if (len(acct) < 1): break\n",
    "# #     url = twurl.augment(TWITTER_URL,\n",
    "# #                         {'screen_name': acct, 'count': '2'})\n",
    "# #     print('Retrieving', url)\n",
    "# #     connection = urllib.request.urlopen(url, context=ctx)\n",
    "# #     data = connection.read().decode()\n",
    "# #     print(data[:250])\n",
    "# #     headers = dict(connection.getheaders())\n",
    "# #     # print headers\n",
    "# #     print('Remaining', headers['x-rate-limit-remaining'])"
   ]
  },
  {
   "cell_type": "markdown",
   "metadata": {},
   "source": [
    "## Summary\n",
    "* Service Oriented Architecture - allows an application to be broken into parts and distributed across a network\n",
    "* An API is a contract for interaction\n",
    "* Web Services provie infraestructure for applications cooperating (an API) over a network - SOAP and REST are two styles of web services\n",
    "* XML and JSON are serialization formats"
   ]
  },
  {
   "cell_type": "code",
   "execution_count": null,
   "metadata": {},
   "outputs": [],
   "source": []
  }
 ],
 "metadata": {
  "kernelspec": {
   "display_name": "Python 3.7.13 ('DS4A-env')",
   "language": "python",
   "name": "python3"
  },
  "language_info": {
   "codemirror_mode": {
    "name": "ipython",
    "version": 3
   },
   "file_extension": ".py",
   "mimetype": "text/x-python",
   "name": "python",
   "nbconvert_exporter": "python",
   "pygments_lexer": "ipython3",
   "version": "3.7.13"
  },
  "orig_nbformat": 4,
  "vscode": {
   "interpreter": {
    "hash": "f83222598422434fc400a8455b5c5dcc255e92c9440a203626fed095cefc0f12"
   }
  }
 },
 "nbformat": 4,
 "nbformat_minor": 2
}
